{
  "metadata": {
    "kernelspec": {
      "display_name": "Python 3",
      "language": "python",
      "name": "python3"
    },
    "language_info": {
      "name": "python",
      "version": "3.7.12",
      "mimetype": "text/x-python",
      "codemirror_mode": {
        "name": "ipython",
        "version": 3
      },
      "pygments_lexer": "ipython3",
      "nbconvert_exporter": "python",
      "file_extension": ".py"
    },
    "colab": {
      "provenance": [],
      "include_colab_link": true
    },
    "accelerator": "GPU",
    "gpuClass": "standard"
  },
  "nbformat_minor": 0,
  "nbformat": 4,
  "cells": [
    {
      "cell_type": "markdown",
      "metadata": {
        "id": "view-in-github",
        "colab_type": "text"
      },
      "source": [
        "<a href=\"https://colab.research.google.com/github/andreggalvao/Bootcamp_Arq_ML_XPE_2023_3A/blob/main/Semana%201/Desafio_1_V2.ipynb\" target=\"_parent\"><img src=\"https://colab.research.google.com/assets/colab-badge.svg\" alt=\"Open In Colab\"/></a>"
      ]
    },
    {
      "cell_type": "code",
      "source": [
        "# Importações padrões\n",
        "import pandas as pd\n",
        "import numpy as np\n",
        "import seaborn as sns\n",
        "import matplotlib.pyplot as plt\n",
        "\n",
        "# Importando ferramentas\n",
        "from sklearn.model_selection import KFold, RandomizedSearchCV\n",
        "\n",
        "# Importações de classe Keras\n",
        "from keras.models import Sequential\n",
        "from keras.layers import Dense, Dropout, BatchNormalization, Flatten, MaxPooling2D, Conv2D\n",
        "from keras.applications.vgg16 import VGG16, preprocess_input\n",
        "from keras.applications.vgg19 import VGG19\n",
        "from keras.applications.resnet import ResNet152\n",
        "from keras.preprocessing import image\n",
        "from keras.optimizers import SGD, Adam\n",
        "from keras.utils import to_categorical\n",
        "from keras.callbacks import EarlyStopping, ModelCheckpoint, ReduceLROnPlateau\n",
        "from keras.preprocessing.image import ImageDataGenerator\n",
        "\n",
        "# Importando outras bibliotecas necessárias\n",
        "import tensorflow as tf\n",
        "from tensorflow.image import resize\n",
        "import cv2\n",
        "import zipfile\n",
        "import os\n",
        "import requests\n",
        "import random\n",
        "\n",
        "from keras.optimizers import Adam\n",
        "\n",
        "from sklearn.model_selection import train_test_split"
      ],
      "metadata": {
        "id": "_Zf-ynGcpY4k",
        "execution": {
          "iopub.status.busy": "2023-03-25T00:32:41.731050Z",
          "iopub.execute_input": "2023-03-25T00:32:41.731691Z",
          "iopub.status.idle": "2023-03-25T00:32:51.384913Z",
          "shell.execute_reply.started": "2023-03-25T00:32:41.731648Z",
          "shell.execute_reply": "2023-03-25T00:32:51.383790Z"
        },
        "trusted": true
      },
      "execution_count": null,
      "outputs": []
    },
    {
      "cell_type": "code",
      "source": [
        "tf.config.get_visible_devices()"
      ],
      "metadata": {
        "id": "Lv17jo1ApY4o",
        "outputId": "e446c756-2daf-4310-d535-78cbdc3bddd1",
        "colab": {
          "base_uri": "https://localhost:8080/"
        },
        "execution": {
          "iopub.status.busy": "2023-03-25T00:32:51.387280Z",
          "iopub.execute_input": "2023-03-25T00:32:51.388472Z",
          "iopub.status.idle": "2023-03-25T00:32:51.674453Z",
          "shell.execute_reply.started": "2023-03-25T00:32:51.388433Z",
          "shell.execute_reply": "2023-03-25T00:32:51.673244Z"
        },
        "trusted": true
      },
      "execution_count": null,
      "outputs": [
        {
          "execution_count": 2,
          "output_type": "execute_result",
          "data": {
            "text/plain": "[PhysicalDevice(name='/physical_device:CPU:0', device_type='CPU'),\n PhysicalDevice(name='/physical_device:GPU:0', device_type='GPU'),\n PhysicalDevice(name='/physical_device:GPU:1', device_type='GPU')]"
          },
          "metadata": {}
        }
      ]
    },
    {
      "cell_type": "markdown",
      "source": [
        "# Fazendo o download e organizado as imagens"
      ],
      "metadata": {
        "id": "QkGQhNVHUpZL"
      }
    },
    {
      "cell_type": "markdown",
      "source": [
        "## Listando endereços, fazendo downloads e organizando as imagens"
      ],
      "metadata": {
        "id": "sSk1qKACUzox"
      }
    },
    {
      "cell_type": "code",
      "source": [
        "# Baixando imagem\n",
        "!wget --no-check-certificate \\\n",
        " https://storage.googleapis.com/mledu-datasets/cats_and_dogs_filtered.zip \\\n",
        " -O /tmp/cats_and_dogs_filtered.zip\n",
        "\n",
        "# Abrindo e extraindo o zip\n",
        "local_zip = '/tmp/cats_and_dogs_filtered.zip'\n",
        "zip_ref = zipfile.ZipFile(local_zip, 'r')\n",
        "zip_ref.extractall('/tmp')\n",
        "zip_ref.close()\n",
        "\n",
        "# Definindo os diretórios\n",
        "base_dir = '/tmp/cats_and_dogs_filtered'\n",
        "train_dir = os.path.join(base_dir, 'train')\n",
        "validation_dir = os.path.join(base_dir, 'validation')\n",
        "\n",
        "# Endereço dos diretórios finais\n",
        "train_cats_dir = os.path.join(train_dir, 'cats') # Diretório com imagens de treinamentos de gatos\n",
        "train_dogs_dir = os.path.join(train_dir, 'dogs') # Diretório com imagens de treinamentos de cacho\n",
        "validation_cats_dir = os.path.join(validation_dir, 'cats') # Diretório com imagens de teste de gatos\n",
        "validation_dogs_dir = os.path.join(validation_dir, 'dogs') # Diretório com imagens de teste de cach\n",
        "\n",
        "\n",
        "# Lista com os endereços e local onde será armazenado as imagens\n",
        "dirs =[train_cats_dir, train_dogs_dir, validation_cats_dir, validation_dogs_dir ]\n",
        "\n",
        "\n",
        "# Listas para armazenar as imagens\n",
        "images = [[] for _ in range(len(dirs))]\n",
        "\n",
        "\n",
        "for i, dir in enumerate(dirs): # Loop para buscar as imagens em cada diretório e armazená-las em sua lista correspondente\n",
        "    for filename in os.listdir(dir): # Iterando sobre cada arquivo no diretório\n",
        "        if filename.endswith('.jpg'): # Verificando se o arquivo tem extensão .jpg\n",
        "            img = cv2.imread(os.path.join(dir, filename)) # Carregando a imagem utilizando a função cv2.imread() e armazenando na variável img\n",
        "            images[i].append(img) # Adicionando a imagem na lista correspondente em images\n",
        "\n",
        "# Armazenando as imagens em suas devidas listas\n",
        "# Criando as listas onde serão armazenadas todas as imagens\n",
        "train_cats_img = images[0]\n",
        "train_dogs_img = images[1]\n",
        "validation_cats_img = images[2]\n",
        "validation_dogs_img = images[3]\n",
        "\n",
        "\n"
      ],
      "metadata": {
        "id": "35WJXkVQABuJ",
        "outputId": "c9c8fc6d-15df-4c32-d1f0-e4dbf882f752",
        "colab": {
          "base_uri": "https://localhost:8080/"
        },
        "execution": {
          "iopub.status.busy": "2023-03-25T00:32:51.676375Z",
          "iopub.execute_input": "2023-03-25T00:32:51.676810Z",
          "iopub.status.idle": "2023-03-25T00:33:01.280498Z",
          "shell.execute_reply.started": "2023-03-25T00:32:51.676763Z",
          "shell.execute_reply": "2023-03-25T00:33:01.279192Z"
        },
        "trusted": true
      },
      "execution_count": null,
      "outputs": [
        {
          "name": "stdout",
          "text": "--2023-03-25 00:32:52--  https://storage.googleapis.com/mledu-datasets/cats_and_dogs_filtered.zip\nResolving storage.googleapis.com (storage.googleapis.com)... 142.250.148.128, 209.85.200.128, 142.250.152.128, ...\nConnecting to storage.googleapis.com (storage.googleapis.com)|142.250.148.128|:443... connected.\nHTTP request sent, awaiting response... 200 OK\nLength: 68606236 (65M) [application/zip]\nSaving to: ‘/tmp/cats_and_dogs_filtered.zip’\n\n/tmp/cats_and_dogs_ 100%[===================>]  65.43M   160MB/s    in 0.4s    \n\n2023-03-25 00:32:53 (160 MB/s) - ‘/tmp/cats_and_dogs_filtered.zip’ saved [68606236/68606236]\n\n",
          "output_type": "stream"
        }
      ]
    },
    {
      "cell_type": "markdown",
      "source": [
        "## Na seção abaixo, vamos plotar uma pequena amostra das imagens de cada uma das 4 listas que temos"
      ],
      "metadata": {
        "id": "dT_jXd1SVrby"
      }
    },
    {
      "cell_type": "code",
      "source": [
        "fig, axs = plt.subplots(nrows=3, ncols=3, figsize=(10, 10))\n",
        "fig.tight_layout(pad=1.5, w_pad=2.0)\n",
        "plt.subplots_adjust(top=0.9)\n",
        "\n",
        "plt.suptitle(\"Imagens de gatos para treino\", fontsize = 18)\n",
        "for i in range(9):\n",
        "    axs[(i // 3), (i % 3)].imshow(train_cats_img[i])\n",
        "    axs[(i // 3), (i % 3)].axis('off')\n",
        "plt.show()"
      ],
      "metadata": {
        "id": "GHIkM_h5_-hW",
        "_kg_hide-input": false,
        "trusted": true
      },
      "execution_count": null,
      "outputs": []
    },
    {
      "cell_type": "code",
      "source": [
        "fig, axs = plt.subplots(nrows=3, ncols=3, figsize=(10, 10))\n",
        "fig.tight_layout(pad=1.5, w_pad=2.0)\n",
        "plt.subplots_adjust(top=0.9)\n",
        "\n",
        "plt.suptitle(\"Imagens de cachorros para treino\", fontsize = 18)\n",
        "for i in range(9):\n",
        "    axs[(i // 3), (i % 3)].imshow(train_dogs_img[i])\n",
        "    axs[(i // 3), (i % 3)].axis('off')\n",
        "plt.show()"
      ],
      "metadata": {
        "id": "7oECHNOhUkS8",
        "trusted": true
      },
      "execution_count": null,
      "outputs": []
    },
    {
      "cell_type": "code",
      "source": [
        "fig, axs = plt.subplots(nrows=3, ncols=3, figsize=(10, 10))\n",
        "fig.tight_layout(pad=1.5, w_pad=2.0)\n",
        "plt.subplots_adjust(top=0.9)\n",
        "\n",
        "plt.suptitle(\"Imagens de gatos para validação\", fontsize = 18)\n",
        "for i in range(9):\n",
        "    axs[(i // 3), (i % 3)].imshow(validation_cats_img[i])\n",
        "    axs[(i // 3), (i % 3)].axis('off')\n",
        "plt.show()"
      ],
      "metadata": {
        "id": "xmuRGK0vV11P",
        "trusted": true
      },
      "execution_count": null,
      "outputs": []
    },
    {
      "cell_type": "code",
      "source": [
        "fig, axs = plt.subplots(nrows=3, ncols=3, figsize=(10, 10))\n",
        "fig.tight_layout(pad=1.5, w_pad=2.0)\n",
        "plt.subplots_adjust(top=0.9)\n",
        "\n",
        "\n",
        "plt.suptitle(\"Imagens de cachorro para validação\", fontsize = 18)\n",
        "for i in range(9):\n",
        "    axs[(i // 3), (i % 3)].imshow(validation_dogs_img[i],)\n",
        "    axs[(i // 3), (i % 3)].axis('off')\n",
        "plt.show()"
      ],
      "metadata": {
        "id": "-foMUvKjWMI3",
        "trusted": true
      },
      "execution_count": null,
      "outputs": []
    },
    {
      "cell_type": "markdown",
      "source": [
        "## Juntando os dados em um único array e definindo X e y"
      ],
      "metadata": {
        "id": "Lhsib5GiXwdu"
      }
    },
    {
      "cell_type": "code",
      "source": [
        "\n",
        "# Juntando as listas\n",
        "gatos = train_cats_img + validation_cats_img\n",
        "cachorros = train_dogs_img + validation_dogs_img\n",
        "\n",
        "# Criando as listas de 'alvos'\n",
        "gatos_y = np.repeat('0', len(gatos)) # Vamos estabelecer que gatos = 0\n",
        "cachorros_y = np.repeat('1', len(cachorros)) # Vamos estabelecer que cachorros = 1\n",
        "#cachorros_y = list(map(int, cachorros_y)) # Convertendo os valores de 'U1' para int\n",
        "\n",
        "# Criando a nossas variáveis finals\n",
        "X = np.concatenate((gatos, cachorros))\n",
        "y = np.concatenate((gatos_y, cachorros_y))\n",
        "\n",
        "\n",
        "# Uma vez que as listas estão sem embaralhar, tendo inicialmente só gatos e depois cachorros, vamos fazer um shuffle para evitar qualquer tipo de bias\n",
        "# Usando a função zip para unir as duas listas e que todos os seus elementos sejam embaralhados de forma aleatóri simultaneamente\n",
        "unidas = list(zip(X, y)) # Unir as duas listas\n",
        "random.shuffle(unidas) # Embaralhar as duas listas\n",
        "X, y = zip(*unidas) # Separar as listas embaralhadas\n",
        "\n",
        "\n",
        "# Redimensionando para o tamanho solicitado\n",
        "X = np.array([cv2.resize(img, (220, 128)) for img in X])\n"
      ],
      "metadata": {
        "id": "kT5BHTjrX4Ca",
        "outputId": "f4b52dfc-de5f-472c-a3db-4c682afb782c",
        "colab": {
          "base_uri": "https://localhost:8080/"
        },
        "execution": {
          "iopub.status.busy": "2023-03-25T00:33:01.283360Z",
          "iopub.execute_input": "2023-03-25T00:33:01.285001Z",
          "iopub.status.idle": "2023-03-25T00:33:01.932355Z",
          "shell.execute_reply.started": "2023-03-25T00:33:01.284954Z",
          "shell.execute_reply": "2023-03-25T00:33:01.931295Z"
        },
        "trusted": true
      },
      "execution_count": null,
      "outputs": [
        {
          "name": "stderr",
          "text": "<string>:6: VisibleDeprecationWarning: Creating an ndarray from ragged nested sequences (which is a list-or-tuple of lists-or-tuples-or ndarrays with different lengths or shapes) is deprecated. If you meant to do this, you must specify 'dtype=object' when creating the ndarray.\n",
          "output_type": "stream"
        }
      ]
    },
    {
      "cell_type": "markdown",
      "source": [
        "## Gerando 1000 imagens com data augmentation"
      ],
      "metadata": {
        "id": "Zu8SNOMCjMTB"
      }
    },
    {
      "cell_type": "markdown",
      "source": [
        "Data augmentation é uma técnica utilizada para aumentar o tamanho do conjunto de dados de treinamento, gerando novas imagens a partir das imagens originais, através de transformações como rotações, translações, inversões, zooms, entre outras."
      ],
      "metadata": {
        "id": "yZGD0w7zjTXD"
      }
    },
    {
      "cell_type": "code",
      "source": [
        "\n",
        "X_aug = []\n",
        "y_aug =  []\n",
        "\n",
        "# Criar um gerador de imagens com as transformações desejadas\n",
        "datagen = ImageDataGenerator(rotation_range=45, # Rotacionando em ângulos de 45%\n",
        "                             width_shift_range=0.2, # Variando largura em 20%\n",
        "                             height_shift_range=0.2) # Variando altura em 20%\n",
        "\n",
        "# Quantidade de imagens geradas\n",
        "n = 1000\n",
        "\n",
        "# Gerar novas imagens a partir das originais e adicioná-las às listas existentes\n",
        "for i in range(n):\n",
        "    # Selecionar uma imagem aleatória\n",
        "    idx = np.random.randint(len(X))\n",
        "    img = X[idx]\n",
        "    label = y[idx]\n",
        "    \n",
        "    # Aplicar as transformações na imagem selecionada\n",
        "    img_aug = datagen.random_transform(img)\n",
        "    \n",
        "    # Adicionar a nova imagem e seu rótulo às listas existentes\n",
        "    X_aug.append(img_aug)\n",
        "    y_aug.append(label)\n",
        "    \n",
        "# Converter as listas em arrays numpy\n",
        "X_aug = np.array(X_aug)\n",
        "y_aug = np.array(y_aug)\n",
        "\n",
        "# Adicionar as imagens geradas às imagens já existentes\n",
        "X = np.concatenate((X, X_aug))\n",
        "y = np.concatenate((y, y_aug))\n",
        "\n"
      ],
      "metadata": {
        "id": "VyVOAfB0hvZT",
        "trusted": true
      },
      "execution_count": null,
      "outputs": []
    },
    {
      "cell_type": "code",
      "source": [
        "# Ajuste final para entrada\n",
        "\n",
        "X = X.astype('float32') / 255\n",
        "y = np.asarray(y).astype('float32').reshape((-1,1))\n",
        "\n",
        "\n",
        "# Separando os dados em treino e teste para aplicação dos modelos\n",
        "X_train, X_test, y_train, y_test = train_test_split(X, y, test_size=0.3)"
      ],
      "metadata": {
        "execution": {
          "iopub.status.busy": "2023-03-25T00:33:04.046831Z",
          "iopub.execute_input": "2023-03-25T00:33:04.047319Z",
          "iopub.status.idle": "2023-03-25T00:33:04.669308Z",
          "shell.execute_reply.started": "2023-03-25T00:33:04.047274Z",
          "shell.execute_reply": "2023-03-25T00:33:04.668180Z"
        },
        "trusted": true,
        "id": "hcKqjs1bRZ70"
      },
      "execution_count": null,
      "outputs": []
    },
    {
      "cell_type": "markdown",
      "source": [
        "## Instanciando os modelos\n"
      ],
      "metadata": {
        "id": "5KrI2DpHtvMF"
      }
    },
    {
      "cell_type": "code",
      "source": [],
      "metadata": {
        "id": "6S3DatR_RZ70"
      },
      "execution_count": null,
      "outputs": []
    },
    {
      "cell_type": "code",
      "source": [
        "\n",
        "# Instanciando a rede VGG16\n",
        "base_vgg16 = VGG16(weights = None, include_top = False, input_shape = (128, 220, 3))\n",
        "\n",
        "#VGG16\n",
        "vgg16 = Sequential()\n",
        "vgg16.add(base_vgg16)\n",
        "vgg16.add(Flatten())\n",
        "vgg16.add(Dense(2048, activation = 'relu'))\n",
        "vgg16.add(Dense(1024, activation = 'relu'))\n",
        "vgg16.add(Dropout(0.5))\n",
        "vgg16.add(Dense(1, activation = 'sigmoid'))\n",
        "\n",
        "# Define o otimizador Adam com taxa de aprendizado reduzida\n",
        "optimizer = Adam(learning_rate=0.0001) # Original é 0.0001\n",
        "\n",
        "vgg16.compile(loss = 'binary_crossentropy', optimizer = optimizer,metrics = ['accuracy'] )\n",
        "\n",
        "history_vgg16 = vgg16.fit(X_train, y_train, batch_size = 32, epochs = 15, validation_data = (X_test, y_test))\n",
        "\n",
        "_, acc = vgg16.evaluate(X_test, y_test, verbose = 0)\n",
        "print('Acurácia final do modelo vgg16 = %.3f' % (acc * 100.0))"
      ],
      "metadata": {
        "execution": {
          "iopub.status.busy": "2023-03-25T00:33:04.999851Z",
          "iopub.execute_input": "2023-03-25T00:33:05.001050Z",
          "iopub.status.idle": "2023-03-25T00:38:36.073057Z",
          "shell.execute_reply.started": "2023-03-25T00:33:05.001007Z",
          "shell.execute_reply": "2023-03-25T00:38:36.071872Z"
        },
        "trusted": true,
        "id": "CK2DpW5TRZ70",
        "outputId": "d3fe7e4f-7bcb-4a66-8f71-168261fa1b7a"
      },
      "execution_count": null,
      "outputs": [
        {
          "name": "stdout",
          "text": "Epoch 1/15\n66/66 [==============================] - 38s 354ms/step - loss: 0.6937 - accuracy: 0.5010 - val_loss: 0.6935 - val_accuracy: 0.4722\nEpoch 2/15\n66/66 [==============================] - 17s 259ms/step - loss: 0.6931 - accuracy: 0.5057 - val_loss: 0.6937 - val_accuracy: 0.4722\nEpoch 3/15\n66/66 [==============================] - 17s 264ms/step - loss: 0.6931 - accuracy: 0.5119 - val_loss: 0.6941 - val_accuracy: 0.4722\nEpoch 4/15\n66/66 [==============================] - 18s 272ms/step - loss: 0.6931 - accuracy: 0.5119 - val_loss: 0.6944 - val_accuracy: 0.4722\nEpoch 5/15\n66/66 [==============================] - 18s 280ms/step - loss: 0.6932 - accuracy: 0.5005 - val_loss: 0.6934 - val_accuracy: 0.4722\nEpoch 6/15\n66/66 [==============================] - 18s 268ms/step - loss: 0.6931 - accuracy: 0.5119 - val_loss: 0.6939 - val_accuracy: 0.4722\nEpoch 7/15\n66/66 [==============================] - 18s 274ms/step - loss: 0.6930 - accuracy: 0.5119 - val_loss: 0.6940 - val_accuracy: 0.4722\nEpoch 8/15\n66/66 [==============================] - 18s 267ms/step - loss: 0.6929 - accuracy: 0.5119 - val_loss: 0.6945 - val_accuracy: 0.4722\nEpoch 9/15\n66/66 [==============================] - 18s 269ms/step - loss: 0.6929 - accuracy: 0.5119 - val_loss: 0.6945 - val_accuracy: 0.4722\nEpoch 10/15\n66/66 [==============================] - 18s 268ms/step - loss: 0.6930 - accuracy: 0.5119 - val_loss: 0.6943 - val_accuracy: 0.4722\nEpoch 11/15\n66/66 [==============================] - 18s 269ms/step - loss: 0.6930 - accuracy: 0.5119 - val_loss: 0.6944 - val_accuracy: 0.4722\nEpoch 12/15\n66/66 [==============================] - 18s 275ms/step - loss: 0.6934 - accuracy: 0.5119 - val_loss: 0.6941 - val_accuracy: 0.4722\nEpoch 13/15\n66/66 [==============================] - 18s 274ms/step - loss: 0.6930 - accuracy: 0.5119 - val_loss: 0.6942 - val_accuracy: 0.4722\nEpoch 14/15\n66/66 [==============================] - 18s 267ms/step - loss: 0.6930 - accuracy: 0.5119 - val_loss: 0.6941 - val_accuracy: 0.4722\nEpoch 15/15\n66/66 [==============================] - 18s 267ms/step - loss: 0.6930 - accuracy: 0.5119 - val_loss: 0.6946 - val_accuracy: 0.4722\nAcurácia final do modelo vgg16 = 47.222\n",
          "output_type": "stream"
        }
      ]
    },
    {
      "cell_type": "code",
      "source": [
        "# Instanciando a rede VGG19\n",
        "base_vgg19 = VGG19(weights = None, include_top = False, input_shape = (128, 220, 3))\n",
        "\n",
        "#VGG19\n",
        "vgg19 = Sequential()\n",
        "vgg19.add(base_vgg19)\n",
        "vgg19.add(Flatten())\n",
        "vgg19.add(Dense(2048, activation = 'relu'))\n",
        "vgg19.add(Dense(1024, activation = 'relu'))\n",
        "vgg19.add(Dropout(0.5))\n",
        "vgg19.add(Dense(1, activation = 'sigmoid'))\n",
        "\n",
        "# Define o otimizador Adam com taxa de aprendizado reduzida\n",
        "optimizer = Adam(learning_rate=0.0001) # Original é 0.0001\n",
        "\n",
        "vgg19.compile(loss = 'binary_crossentropy', optimizer = optimizer,metrics = ['accuracy'] )\n",
        "\n",
        "history_vgg19 = vgg19.fit(X_train, y_train, batch_size = 32, epochs = 15, validation_data = (X_test, y_test))\n",
        "\n",
        "_, acc = vgg19.evaluate(X_test, y_test, verbose = 0)\n",
        "print('Acurácia final do modelo vgg19 = %.3f' % (acc * 100.0))"
      ],
      "metadata": {
        "trusted": true,
        "id": "tmkkTEd9RZ71"
      },
      "execution_count": null,
      "outputs": []
    },
    {
      "cell_type": "code",
      "source": [
        "# Instanciando a rede ResNet152\n",
        "base_resnet152 = ResNet152(weights = None, include_top = False, input_shape = (128, 220, 3))\n",
        "\n",
        "#ResNet152\n",
        "resnet152 = Sequential()\n",
        "resnet152.add(base_resnet152)\n",
        "resnet152.add(Flatten())\n",
        "resnet152.add(Dense(2048, activation = 'relu'))\n",
        "resnet152.add(Dense(1024, activation = 'relu'))\n",
        "resnet152.add(Dropout(0.5))\n",
        "resnet152.add(Dense(1, activation = 'sigmoid'))\n",
        "\n",
        "# Define o otimizador Adam com taxa de aprendizado reduzida\n",
        "optimizer = Adam(learning_rate=0.0001) # Original é 0.0001\n",
        "\n",
        "resnet152.compile(loss = 'binary_crossentropy', optimizer = optimizer,metrics = ['accuracy'] )\n",
        "\n",
        "history_resnet152 = resnet152.fit(X_train, y_train, batch_size = 32, epochs = 15, validation_data = (X_test, y_test))\n",
        "\n",
        "_, acc = resnet152.evaluate(X_test, y_test, verbose = 0)\n",
        "print('Acurácia final do modelo resnet152 = %.3f' % (acc * 100.0))\n",
        "\n"
      ],
      "metadata": {
        "id": "sHv8fGzyht_y",
        "trusted": true
      },
      "execution_count": null,
      "outputs": []
    },
    {
      "cell_type": "code",
      "source": [
        "## testando outras coisas\n",
        "\n",
        "def define_model():\n",
        " model = Sequential()\n",
        " model.add(Conv2D(32, (3, 3), activation='relu', kernel_initializer='he_uniform', padding='same', input_shape=(128, 220, 3)))\n",
        " model.add(MaxPooling2D((2, 2)))\n",
        " model.add(Dropout(0.2))\n",
        " model.add(Conv2D(64, (3, 3), activation='relu', kernel_initializer='he_uniform', padding='same'))\n",
        " model.add(MaxPooling2D((2, 2)))\n",
        " model.add(Dropout(0.2))\n",
        " model.add(Conv2D(128, (3, 3), activation='relu', kernel_initializer='he_uniform', padding='same'))\n",
        " model.add(MaxPooling2D((2, 2)))\n",
        " model.add(Dropout(0.2))\n",
        " model.add(Flatten())\n",
        " model.add(Dense(128, activation='relu', kernel_initializer='he_uniform'))\n",
        " model.add(Dropout(0.5))\n",
        " model.add(Dense(1, activation='sigmoid'))\n",
        " # compile model\n",
        " opt = SGD(lr=0.001, momentum=0.9)\n",
        " model.compile(optimizer=opt, loss='binary_crossentropy', metrics=['accuracy'])\n",
        " return model"
      ],
      "metadata": {
        "trusted": true,
        "id": "N3IITDhxRZ71"
      },
      "execution_count": null,
      "outputs": []
    },
    {
      "cell_type": "code",
      "source": [
        "model = define_model()\n",
        "\n",
        "\n",
        "# Define o otimizador Adam com taxa de aprendizado reduzida\n",
        "optimizer = Adam(learning_rate=0.0001) # Original é 0.0001\n",
        "\n",
        "model.compile(loss = 'binary_crossentropy', optimizer = optimizer,metrics = ['accuracy'] )\n",
        "\n",
        "model_test = model.fit(X_train, y_train, batch_size = 32, epochs = 15, validation_data = (X_test, y_test))"
      ],
      "metadata": {
        "trusted": true,
        "id": "HLCy1sSpRZ72"
      },
      "execution_count": null,
      "outputs": []
    },
    {
      "cell_type": "code",
      "source": [],
      "metadata": {
        "id": "kLtRZSqQRZ72"
      },
      "execution_count": null,
      "outputs": []
    }
  ]
}